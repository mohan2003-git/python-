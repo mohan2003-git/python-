{
  "nbformat": 4,
  "nbformat_minor": 0,
  "metadata": {
    "colab": {
      "provenance": [],
      "authorship_tag": "ABX9TyOXvceDaxjl5rYt4sfkvyJ9",
      "include_colab_link": true
    },
    "kernelspec": {
      "name": "python3",
      "display_name": "Python 3"
    },
    "language_info": {
      "name": "python"
    }
  },
  "cells": [
    {
      "cell_type": "markdown",
      "metadata": {
        "id": "view-in-github",
        "colab_type": "text"
      },
      "source": [
        "<a href=\"https://colab.research.google.com/github/mohan2003-git/python-/blob/main/2205a21041_w4.ipynb\" target=\"_parent\"><img src=\"https://colab.research.google.com/assets/colab-badge.svg\" alt=\"Open In Colab\"/></a>"
      ]
    },
    {
      "cell_type": "code",
      "execution_count": null,
      "metadata": {
        "colab": {
          "base_uri": "https://localhost:8080/"
        },
        "id": "fbN9tq8hT92l",
        "outputId": "54fbb021-2f2b-4ead-955a-2218c61a2e9a"
      },
      "outputs": [
        {
          "output_type": "stream",
          "name": "stdout",
          "text": [
            "Enter previous units :7184\n",
            "Enter current units :7144\n",
            "Enter the value of TC:00\n",
            "=======================================\n",
            "TGNPDCL\n",
            "2024-09-09 10:27:03\n",
            "=======================================\n",
            "energy charges: -78.0\n",
            "fixed charges: 10\n",
            "customer charges: 40\n",
            "Electricity duty: -0.24\n",
            "total bill: -28.24\n"
          ]
        }
      ],
      "source": [
        "import datetime\n",
        "now=datetime.datetime.now()\n",
        "formatted_now=now.strftime(\"%Y-%m-%d %H:%M:%S\")\n",
        "\n",
        "PU=float(input(\"Enter previous units :\"))\n",
        "CU=float(input(\"Enter current units :\"))\n",
        "TC=int(input(\"Enter the value of TC:\"))\n",
        "U=CU-PU\n",
        "ED=0.006*U\n",
        "if(TC==0):\n",
        "  if(U<=100):\n",
        "    if(U<=50):\n",
        "      EC=1.95*U\n",
        "      FC=10\n",
        "      CC=40\n",
        "    else:\n",
        "      EC=3.10*U\n",
        "      FC=10\n",
        "      CC=70\n",
        "  else:\n",
        "     if(U>100 and U<=200):\n",
        "      EC=100*3.4+(U-100)*4.8\n",
        "      FC=10\n",
        "      CC=90\n",
        "     else:\n",
        "      print(\"this application is not supported\")\n",
        "\n",
        "if(TC==1):\n",
        "  if(U<=50):\n",
        "    EC=7*U\n",
        "    FC=60\n",
        "    CC=50\n",
        "  else:\n",
        "    print(\"this application is not supported\")\n",
        "bill_amount=EC+FC+CC+ED\n",
        "print(\"=======================================\")\n",
        "print(\"TGNPDCL\")\n",
        "print(formatted_now)\n",
        "print(\"=======================================\")\n",
        "print(\"energy charges:\",EC)\n",
        "print(\"fixed charges:\",FC)\n",
        "print(\"customer charges:\",CC)\n",
        "print(\"Electricity duty:\",ED)\n",
        "print(\"total bill:\",bill_amount)"
      ]
    }
  ]
}